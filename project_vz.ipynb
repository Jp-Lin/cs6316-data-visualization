{
 "cells": [
  {
   "cell_type": "code",
   "execution_count": 1,
   "metadata": {},
   "outputs": [
    {
     "data": {
      "text/html": [
       "<script>requirejs.config({paths: { 'plotly': ['https://cdn.plot.ly/plotly-latest.min']},});if(!window.Plotly) {{require(['plotly'],function(plotly) {window.Plotly=plotly;});}}</script>"
      ],
      "text/vnd.plotly.v1+html": [
       "<script>requirejs.config({paths: { 'plotly': ['https://cdn.plot.ly/plotly-latest.min']},});if(!window.Plotly) {{require(['plotly'],function(plotly) {window.Plotly=plotly;});}}</script>"
      ]
     },
     "metadata": {},
     "output_type": "display_data"
    }
   ],
   "source": [
    "import numpy as np\n",
    "import pandas as pd\n",
    "import matplotlib.pyplot as plt\n",
    "from bokeh.io import output_file, show\n",
    "from bokeh.models import ColumnDataSource, GMapOptions\n",
    "from bokeh.plotting import gmap\n",
    "import plotly\n",
    "import plotly.offline as po\n",
    "plotly.offline.init_notebook_mode(connected=True)\n",
    "\n",
    "import plotly.plotly as py\n",
    "import plotly.graph_objs as go\n",
    "import ipywidgets as widgets\n",
    "from ipywidgets import interactive, HBox, VBox\n",
    "import matplotlib.pyplot as plt\n",
    "%matplotlib notebook\n",
    "\n",
    "from sklearn.manifold import TSNE\n",
    "from sklearn.decomposition import PCA"
   ]
  },
  {
   "cell_type": "code",
   "execution_count": 2,
   "metadata": {},
   "outputs": [],
   "source": [
    "business_data = pd.read_csv('busniess_data_test.csv', sep=',')\n",
    "business_data.drop(business_data.columns[0], axis=1, inplace=True)\n",
    "business_data.drop([31], inplace=True)\n",
    "\n",
    "business_data['Number_of_Reviewers'].replace(regex=True,inplace=True,to_replace=r' reviews',value=r'')\n",
    "\n",
    "cols = ['Number_of_Reviewers', 'Longitude', 'Latitude']\n",
    "business_data[cols] = business_data[cols].apply(pd.to_numeric)"
   ]
  },
  {
   "cell_type": "code",
   "execution_count": 3,
   "metadata": {},
   "outputs": [],
   "source": [
    "mapbox_access_token = 'pk.eyJ1IjoiZHJlYW15anBsIiwiYSI6ImNqbzFoNm00YjA2Z2kza3FuOWFmN2I3NXoifQ.cADYKcSYogjVVHBiNYvY9A'"
   ]
  },
  {
   "cell_type": "code",
   "execution_count": 4,
   "metadata": {},
   "outputs": [],
   "source": [
    "def plt_gmap(center, lat, lon, name, size, color):\n",
    "    data = [\n",
    "        go.Scattermapbox(\n",
    "            lat=lat,\n",
    "            lon=lon,\n",
    "            mode='markers',\n",
    "            marker=dict(\n",
    "                size=size,\n",
    "                color=color,\n",
    "                colorscale='Jet',\n",
    "                colorbar = dict(\n",
    "                    title = '{}'.format(color.name)),\n",
    "                opacity = 0.6\n",
    "            ),\n",
    "            text=name,\n",
    "        )\n",
    "    ]\n",
    "\n",
    "    layout = go.Layout(\n",
    "        autosize=True,\n",
    "        hovermode='closest',\n",
    "        height=512,\n",
    "        mapbox=dict(\n",
    "            accesstoken=mapbox_access_token,\n",
    "            bearing=0,\n",
    "            center=dict(\n",
    "                lat=center[0],\n",
    "                lon=center[1]\n",
    "            ),\n",
    "            pitch=0,\n",
    "            zoom=10,\n",
    "        ),\n",
    "        margin=dict(\n",
    "            l=40,\n",
    "            r=40,\n",
    "            b=40,\n",
    "            t=40\n",
    "        )\n",
    "    )\n",
    "\n",
    "    fig = dict(data=data, layout=layout)\n",
    "    return fig"
   ]
  },
  {
   "cell_type": "code",
   "execution_count": 5,
   "metadata": {},
   "outputs": [],
   "source": [
    "center = [36.84, -76.1]\n",
    "lat=list(business_data['Latitude'].values)\n",
    "lon=list(business_data['Longitude'].values)\n",
    "name = business_data['Name']\n",
    "color = business_data['Star_Rating']\n",
    "# size = (size-size.min())/(size.max()-size.min())\n",
    "size = (color / color.max()) * 40"
   ]
  },
  {
   "cell_type": "code",
   "execution_count": 6,
   "metadata": {},
   "outputs": [],
   "source": [
    "light_mode = 'mapbox://styles/mapbox/light-v9'\n",
    "basic_mode = 'mapbox://styles/mapbox/streets-v10'\n",
    "satellite_streets_mode = 'mapbox://styles/mapbox/satellite-streets-v9'\n",
    "fig_type = [light_mode, basic_mode, satellite_streets_mode]"
   ]
  },
  {
   "cell_type": "code",
   "execution_count": 7,
   "metadata": {
    "scrolled": false
   },
   "outputs": [],
   "source": [
    "fig = plt_gmap(center, lat, lon, name, size, color)\n",
    "f = go.FigureWidget(fig)\n",
    "\n",
    "def update_color_size(color, size, fig_type):\n",
    "    scatter = f.data[0]\n",
    "    layout = f.layout\n",
    "#     business_data[xaxis] = (business_data[xaxis]-business_data[xaxis].min())/(\n",
    "#         business_data[xaxis].max()-business_data[xaxis].min())\n",
    "#     business_data[yaxis] = (business_data[yaxis]-business_data[yaxis].min())/(\n",
    "#         business_data[yaxis].max()-business_data[yaxis].min())\n",
    "\n",
    "    scatter.marker.color = business_data[color]\n",
    "#     scatter.marker.size = (business_data[size]-business_data[size].min())/(\n",
    "#         business_data[size].max()-business_data[size].min()) * 50\n",
    "    scatter.marker.size = (business_data[size]/business_data[size].max())*40\n",
    "    scatter.marker.colorbar.title = '{}'.format(color)\n",
    "    layout.mapbox.style = '{}'.format(fig_type)\n",
    "\n",
    "axis_dropdowns = interactive(update_color_size, \n",
    "                             size = business_data.select_dtypes('number').columns, \n",
    "                             color = business_data.select_dtypes('number').columns,\n",
    "                            fig_type = fig_type)\n",
    "\n",
    "t = go.FigureWidget([go.Table(\n",
    "    header=dict(values=['Name','Star_Rating','Number_of_Reviewers'],\n",
    "                fill = dict(color='#C2D4FF'),\n",
    "                align = ['left'] * 5),\n",
    "    cells=dict(values=[business_data[col] for col in ['Name','Star_Rating','Number_of_Reviewers']],\n",
    "               fill = dict(color='#F5F8FF'),\n",
    "               align = ['left'] * 5))]\n",
    "                   )\n",
    "\n",
    "def selection_fn(trace,points,selector):\n",
    "    t.data[0].cells.values = [business_data.loc[points.point_inds][col] for col in ['Name','Star_Rating','Number_of_Reviewers']]\n",
    "\n",
    "f.data[0].on_selection(selection_fn)\n",
    "\n",
    "# Put everything together\n",
    "u = VBox((HBox(axis_dropdowns.children),f,t))"
   ]
  },
  {
   "cell_type": "code",
   "execution_count": 8,
   "metadata": {
    "scrolled": false
   },
   "outputs": [
    {
     "data": {
      "application/vnd.jupyter.widget-view+json": {
       "model_id": "900aeacb2fc54f0f9b16f7fba2cc3ec7",
       "version_major": 2,
       "version_minor": 0
      },
      "text/plain": [
       "VBox(children=(HBox(children=(Dropdown(description='color', options=('Star_Rating', 'Number_of_Reviewers', 'Mo…"
      ]
     },
     "metadata": {},
     "output_type": "display_data"
    }
   ],
   "source": [
    "display(u)"
   ]
  },
  {
   "cell_type": "code",
   "execution_count": 9,
   "metadata": {
    "scrolled": true
   },
   "outputs": [
    {
     "data": {
      "text/plain": [
       "array([9.97893704e-01, 1.16158841e-03, 5.18475399e-04])"
      ]
     },
     "execution_count": 9,
     "metadata": {},
     "output_type": "execute_result"
    }
   ],
   "source": [
    "business_data_plt = business_data[business_data.select_dtypes('number').columns[:-2]]\n",
    "rndperm = np.random.permutation(business_data_plt.shape[0])\n",
    "X_business_data_plt = business_data_plt.drop(business_data_plt.columns[0], axis=1)\n",
    "y_business_data_plt = business_data_plt[business_data_plt.columns[0]]\n",
    "\n",
    "pca = PCA(n_components=3)\n",
    "pca_result = pca.fit_transform(X_business_data_plt.values)\n",
    "pca.explained_variance_ratio_"
   ]
  },
  {
   "cell_type": "code",
   "execution_count": 10,
   "metadata": {},
   "outputs": [],
   "source": [
    "X_business_data_plt_embedded = TSNE(n_components=3, random_state=42).fit_transform(X_business_data_plt)"
   ]
  },
  {
   "cell_type": "code",
   "execution_count": 11,
   "metadata": {},
   "outputs": [
    {
     "data": {
      "application/vnd.plotly.v1+json": {
       "data": [
        {
         "marker": {
          "color": [
           4,
           5,
           4.5,
           5,
           4.5,
           4,
           4,
           4.5,
           4,
           4.5,
           4.5,
           4.5,
           4,
           4,
           4,
           4,
           4.5,
           4.5,
           4,
           4.5,
           5,
           4.5,
           4.5,
           4,
           4.5,
           4,
           4.5,
           4.5,
           4,
           5,
           4.5,
           4,
           4,
           4.5
          ],
          "colorbar": {
           "title": "Star_Rating"
          },
          "colorscale": "Viridis",
          "opacity": 0.8,
          "size": 12
         },
         "mode": "markers",
         "text": [
          4,
          5,
          4.5,
          5,
          4.5,
          4,
          4,
          4.5,
          4,
          4.5,
          4.5,
          4.5,
          4,
          4,
          4,
          4,
          4.5,
          4.5,
          4,
          4.5,
          5,
          4.5,
          4.5,
          4,
          4.5,
          4,
          4.5,
          4.5,
          4,
          5,
          4.5,
          4,
          4,
          4.5
         ],
         "type": "scatter3d",
         "uid": "9a89c2fe-e15d-11e8-b8c4-f76fa494f902",
         "x": [
          124.53148651123047,
          -167.6590576171875,
          -71.3883056640625,
          -318.3253479003906,
          -42.90373229980469,
          -53.25221633911133,
          150.0054473876953,
          -89.3092041015625,
          -147.80694580078125,
          -206.79696655273438,
          130.47718811035156,
          -218.12136840820312,
          -113.27449798583984,
          -84.54253387451172,
          302.3144836425781,
          -293.317138671875,
          -178.909423828125,
          123.54666137695312,
          11.319612503051758,
          48.3209342956543,
          -107.56895446777344,
          -152.0758056640625,
          -288.9055480957031,
          161.71331787109375,
          43.18062973022461,
          144.13174438476562,
          -12.72146224975586,
          339.93359375,
          101.6225814819336,
          57.823612213134766,
          135.38150024414062,
          -10.473505020141602,
          217.61175537109375,
          150.4901123046875
         ],
         "y": [
          -112.38894653320312,
          -229.92027282714844,
          -137.0005645751953,
          47.68509292602539,
          -13.605152130126953,
          153.78004455566406,
          -108.21150207519531,
          -35.80848693847656,
          -69.46009826660156,
          117.54772186279297,
          -155.7960205078125,
          -74.56439971923828,
          130.35311889648438,
          13.744346618652344,
          57.61433029174805,
          -90.9898452758789,
          248.2933807373047,
          -302.7047424316406,
          26.715736389160156,
          72.8104248046875,
          165.40011596679688,
          -18.812149047851562,
          75.2806167602539,
          152.66539001464844,
          -38.26930618286133,
          48.34501647949219,
          -184.37693786621094,
          -176.10015869140625,
          54.543766021728516,
          222.0500030517578,
          -5.979477405548096,
          -227.2938995361328,
          8.156471252441406,
          198.38134765625
         ],
         "z": [
          207.60842895507812,
          -36.723411560058594,
          52.868804931640625,
          -33.08567810058594,
          228.30844116210938,
          26.315000534057617,
          -133.19276428222656,
          -315.55560302734375,
          -174.8453369140625,
          56.994728088378906,
          36.50258255004883,
          -41.183555603027344,
          -160.1832733154297,
          -40.967750549316406,
          -43.65202331542969,
          109.0184326171875,
          -51.77048873901367,
          -2.823397636413574,
          -170.32675170898438,
          119.20720672607422,
          199.87498474121094,
          125.80332946777344,
          -912.2605590820312,
          -172.22987365722656,
          13.893182754516602,
          -46.450069427490234,
          -124.5942611694336,
          329.2856140136719,
          275.6947937011719,
          -58.6754264831543,
          -278.0844421386719,
          171.03201293945312,
          108.53404998779297,
          97.95175170898438
         ]
        }
       ],
       "layout": {
        "margin": {
         "b": 0,
         "l": 0,
         "r": 0,
         "t": 0
        },
        "scene": {
         "xaxis": {
          "title": "tsne[:,0]"
         },
         "yaxis": {
          "title": "tsne[:,1]"
         },
         "zaxis": {
          "title": "tsne[:,2]"
         }
        }
       }
      },
      "text/html": [
       "<div id=\"f2b16469-6eca-41f2-a645-3a18840c351a\" style=\"height: 525px; width: 100%;\" class=\"plotly-graph-div\"></div><script type=\"text/javascript\">require([\"plotly\"], function(Plotly) { window.PLOTLYENV=window.PLOTLYENV || {};window.PLOTLYENV.BASE_URL=\"https://plot.ly\";Plotly.newPlot(\"f2b16469-6eca-41f2-a645-3a18840c351a\", [{\"marker\": {\"color\": [4.0, 5.0, 4.5, 5.0, 4.5, 4.0, 4.0, 4.5, 4.0, 4.5, 4.5, 4.5, 4.0, 4.0, 4.0, 4.0, 4.5, 4.5, 4.0, 4.5, 5.0, 4.5, 4.5, 4.0, 4.5, 4.0, 4.5, 4.5, 4.0, 5.0, 4.5, 4.0, 4.0, 4.5], \"colorbar\": {\"title\": \"Star_Rating\"}, \"colorscale\": \"Viridis\", \"opacity\": 0.8, \"size\": 12}, \"mode\": \"markers\", \"text\": [4.0, 5.0, 4.5, 5.0, 4.5, 4.0, 4.0, 4.5, 4.0, 4.5, 4.5, 4.5, 4.0, 4.0, 4.0, 4.0, 4.5, 4.5, 4.0, 4.5, 5.0, 4.5, 4.5, 4.0, 4.5, 4.0, 4.5, 4.5, 4.0, 5.0, 4.5, 4.0, 4.0, 4.5], \"x\": [124.53148651123047, -167.6590576171875, -71.3883056640625, -318.3253479003906, -42.90373229980469, -53.25221633911133, 150.0054473876953, -89.3092041015625, -147.80694580078125, -206.79696655273438, 130.47718811035156, -218.12136840820312, -113.27449798583984, -84.54253387451172, 302.3144836425781, -293.317138671875, -178.909423828125, 123.54666137695312, 11.319612503051758, 48.3209342956543, -107.56895446777344, -152.0758056640625, -288.9055480957031, 161.71331787109375, 43.18062973022461, 144.13174438476562, -12.72146224975586, 339.93359375, 101.6225814819336, 57.823612213134766, 135.38150024414062, -10.473505020141602, 217.61175537109375, 150.4901123046875], \"y\": [-112.38894653320312, -229.92027282714844, -137.0005645751953, 47.68509292602539, -13.605152130126953, 153.78004455566406, -108.21150207519531, -35.80848693847656, -69.46009826660156, 117.54772186279297, -155.7960205078125, -74.56439971923828, 130.35311889648438, 13.744346618652344, 57.61433029174805, -90.9898452758789, 248.2933807373047, -302.7047424316406, 26.715736389160156, 72.8104248046875, 165.40011596679688, -18.812149047851562, 75.2806167602539, 152.66539001464844, -38.26930618286133, 48.34501647949219, -184.37693786621094, -176.10015869140625, 54.543766021728516, 222.0500030517578, -5.979477405548096, -227.2938995361328, 8.156471252441406, 198.38134765625], \"z\": [207.60842895507812, -36.723411560058594, 52.868804931640625, -33.08567810058594, 228.30844116210938, 26.315000534057617, -133.19276428222656, -315.55560302734375, -174.8453369140625, 56.994728088378906, 36.50258255004883, -41.183555603027344, -160.1832733154297, -40.967750549316406, -43.65202331542969, 109.0184326171875, -51.77048873901367, -2.823397636413574, -170.32675170898438, 119.20720672607422, 199.87498474121094, 125.80332946777344, -912.2605590820312, -172.22987365722656, 13.893182754516602, -46.450069427490234, -124.5942611694336, 329.2856140136719, 275.6947937011719, -58.6754264831543, -278.0844421386719, 171.03201293945312, 108.53404998779297, 97.95175170898438], \"type\": \"scatter3d\", \"uid\": \"9a89c2fe-e15d-11e8-b8c4-f76fa494f902\"}], {\"margin\": {\"b\": 0, \"l\": 0, \"r\": 0, \"t\": 0}, \"scene\": {\"xaxis\": {\"title\": \"tsne[:,0]\"}, \"yaxis\": {\"title\": \"tsne[:,1]\"}, \"zaxis\": {\"title\": \"tsne[:,2]\"}}}, {\"showLink\": true, \"linkText\": \"Export to plot.ly\"})});</script>"
      ],
      "text/vnd.plotly.v1+html": [
       "<div id=\"f2b16469-6eca-41f2-a645-3a18840c351a\" style=\"height: 525px; width: 100%;\" class=\"plotly-graph-div\"></div><script type=\"text/javascript\">require([\"plotly\"], function(Plotly) { window.PLOTLYENV=window.PLOTLYENV || {};window.PLOTLYENV.BASE_URL=\"https://plot.ly\";Plotly.newPlot(\"f2b16469-6eca-41f2-a645-3a18840c351a\", [{\"marker\": {\"color\": [4.0, 5.0, 4.5, 5.0, 4.5, 4.0, 4.0, 4.5, 4.0, 4.5, 4.5, 4.5, 4.0, 4.0, 4.0, 4.0, 4.5, 4.5, 4.0, 4.5, 5.0, 4.5, 4.5, 4.0, 4.5, 4.0, 4.5, 4.5, 4.0, 5.0, 4.5, 4.0, 4.0, 4.5], \"colorbar\": {\"title\": \"Star_Rating\"}, \"colorscale\": \"Viridis\", \"opacity\": 0.8, \"size\": 12}, \"mode\": \"markers\", \"text\": [4.0, 5.0, 4.5, 5.0, 4.5, 4.0, 4.0, 4.5, 4.0, 4.5, 4.5, 4.5, 4.0, 4.0, 4.0, 4.0, 4.5, 4.5, 4.0, 4.5, 5.0, 4.5, 4.5, 4.0, 4.5, 4.0, 4.5, 4.5, 4.0, 5.0, 4.5, 4.0, 4.0, 4.5], \"x\": [124.53148651123047, -167.6590576171875, -71.3883056640625, -318.3253479003906, -42.90373229980469, -53.25221633911133, 150.0054473876953, -89.3092041015625, -147.80694580078125, -206.79696655273438, 130.47718811035156, -218.12136840820312, -113.27449798583984, -84.54253387451172, 302.3144836425781, -293.317138671875, -178.909423828125, 123.54666137695312, 11.319612503051758, 48.3209342956543, -107.56895446777344, -152.0758056640625, -288.9055480957031, 161.71331787109375, 43.18062973022461, 144.13174438476562, -12.72146224975586, 339.93359375, 101.6225814819336, 57.823612213134766, 135.38150024414062, -10.473505020141602, 217.61175537109375, 150.4901123046875], \"y\": [-112.38894653320312, -229.92027282714844, -137.0005645751953, 47.68509292602539, -13.605152130126953, 153.78004455566406, -108.21150207519531, -35.80848693847656, -69.46009826660156, 117.54772186279297, -155.7960205078125, -74.56439971923828, 130.35311889648438, 13.744346618652344, 57.61433029174805, -90.9898452758789, 248.2933807373047, -302.7047424316406, 26.715736389160156, 72.8104248046875, 165.40011596679688, -18.812149047851562, 75.2806167602539, 152.66539001464844, -38.26930618286133, 48.34501647949219, -184.37693786621094, -176.10015869140625, 54.543766021728516, 222.0500030517578, -5.979477405548096, -227.2938995361328, 8.156471252441406, 198.38134765625], \"z\": [207.60842895507812, -36.723411560058594, 52.868804931640625, -33.08567810058594, 228.30844116210938, 26.315000534057617, -133.19276428222656, -315.55560302734375, -174.8453369140625, 56.994728088378906, 36.50258255004883, -41.183555603027344, -160.1832733154297, -40.967750549316406, -43.65202331542969, 109.0184326171875, -51.77048873901367, -2.823397636413574, -170.32675170898438, 119.20720672607422, 199.87498474121094, 125.80332946777344, -912.2605590820312, -172.22987365722656, 13.893182754516602, -46.450069427490234, -124.5942611694336, 329.2856140136719, 275.6947937011719, -58.6754264831543, -278.0844421386719, 171.03201293945312, 108.53404998779297, 97.95175170898438], \"type\": \"scatter3d\", \"uid\": \"9a89c2fe-e15d-11e8-b8c4-f76fa494f902\"}], {\"margin\": {\"b\": 0, \"l\": 0, \"r\": 0, \"t\": 0}, \"scene\": {\"xaxis\": {\"title\": \"tsne[:,0]\"}, \"yaxis\": {\"title\": \"tsne[:,1]\"}, \"zaxis\": {\"title\": \"tsne[:,2]\"}}}, {\"showLink\": true, \"linkText\": \"Export to plot.ly\"})});</script>"
      ]
     },
     "metadata": {},
     "output_type": "display_data"
    }
   ],
   "source": [
    "business_data_tsne_embedded = go.Scatter3d(\n",
    "    x=X_business_data_plt_embedded[:,0],\n",
    "    y=X_business_data_plt_embedded[:,1],\n",
    "    z=X_business_data_plt_embedded[:,2],\n",
    "    mode='markers',\n",
    "    marker=dict(\n",
    "        size=12,\n",
    "        color=y_business_data_plt,  # set color to an array/list of desired values\n",
    "        colorscale='Viridis',       # choose a colorscale\n",
    "        opacity=0.8,\n",
    "        colorbar = dict(title = '{}'.format(y_business_data_plt.name))\n",
    "    ),\n",
    "    text = y_business_data_plt\n",
    ")\n",
    "\n",
    "data = [business_data_tsne_embedded]\n",
    "layout = go.Layout(\n",
    "     scene = dict(xaxis=dict(title='tsne[:,0]'),\n",
    "                            yaxis=dict(title='tsne[:,1]'),\n",
    "                            zaxis=dict(title='tsne[:,2]'),\n",
    "                           ),\n",
    "    margin=dict(\n",
    "        l=0,\n",
    "        r=0,\n",
    "        b=0,\n",
    "        t=0\n",
    "    )\n",
    ")\n",
    "fig = go.Figure(data=data, layout=layout)\n",
    "po.iplot(fig, filename='3d-scatter-colorscale')"
   ]
  }
 ],
 "metadata": {
  "kernelspec": {
   "display_name": "Python 3",
   "language": "python",
   "name": "python3"
  },
  "language_info": {
   "codemirror_mode": {
    "name": "ipython",
    "version": 3
   },
   "file_extension": ".py",
   "mimetype": "text/x-python",
   "name": "python",
   "nbconvert_exporter": "python",
   "pygments_lexer": "ipython3",
   "version": "3.7.0"
  }
 },
 "nbformat": 4,
 "nbformat_minor": 2
}
